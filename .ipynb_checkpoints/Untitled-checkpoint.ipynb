{
 "cells": [
  {
   "cell_type": "code",
   "execution_count": null,
   "metadata": {},
   "outputs": [],
   "source": [
    "import pandas as pd\n",
    "import numpy as np\n",
    "import matplotlib\n",
    "from matplotlib import pyplot as plt #librería para graficar\n",
    "import statsmodels.api as sm\n",
    "\n",
    "# Omiting WARNINGS\n",
    "import warnings\n",
    "warnings.filterwarnings('ignore')\n"
   ]
  },
  {
   "cell_type": "markdown",
   "metadata": {},
   "source": [
    "# Variables"
   ]
  },
  {
   "cell_type": "markdown",
   "metadata": {},
   "source": [
    "## Educativas \n",
    "- desercion : desercion\n",
    "- inst_pub : Institucion publica (p9_11==priv)\n",
    "- rezago  : Ingreso a la EMS con mas de 17 años \n",
    "- escuela_asig : Le asignaron escuela\n",
    "- turno : Turno diferente al que quería\n",
    "- prob_ent_m : Problemas para entenderle a los maestros\n",
    "- acoso_esc : Lo molestaban compañeros\n",
    "- discriminacion : Se sentía discriminado(a)\n",
    "- no_cambio :  Se quiso cambiar de escuela, no le revalidaron los cursos \n",
    "- beca : Tenía beca \n",
    "- confianza_maes : Confianza en Director/Maestro/Orientador\n",
    "- expulcion : Expulsado por indisciplina\n",
    "- cambio : Cambio de escuela\n",
    "- prom_sec: Promedio de secundaria\n",
    "- Promedio en EMS\n",
    "    - prom_ems_a : Alto o de los más altos\n",
    "    - prom_ems_nab : Ni alto ni bajo\n",
    "    - prom_ems_b : Bajo\n",
    "    - prom_ems_mb : De los mas bajos\n",
    "- Reprobación \n",
    "    - repr_n : Nunca o alguna vez\n",
    "    - repr_vm : Varias materias\n",
    "    - repr_mp : Más de las permitidas\n",
    "- Asistencia \n",
    "    - asis_s : Siempre o regularmente \n",
    "    - asis_f : Asistencia a clases: Faltaba con frecuencia\n",
    "    - asis_fm : Asistencia a clases: Faltaba mucho\n",
    "        \n",
    "## Individuales\n",
    "- sexo: Sexo (Mujer)\n",
    "- casado : Se casó\n",
    "- embarazo:  Embarazo o hijos\n",
    "- baja_autoestima: Tenía baja autoestima\n",
    "- disguto_est : Le disgustaba estudiar\n",
    "- cambio_casa : Cambio de casa\n",
    "- confianza_fam: Confianza en Familia\n",
    "- problemas_padres : Problemas personales con padres\n",
    "- preferian_hermanos: La familia prefería que estudiaran otros hermanos\n",
    "- vivia_padres : Vivía con ambos padres\n",
    "- num_hnos : Número de hermanos\n",
    "- hnos_des : Hermanos desertores de EMS\n",
    "- Educacion padres\n",
    "    - educ_pad_sp : Sin Primaria completa\n",
    "    - educ_pad_ss : Primaria completa / Secundaria incompleta\n",
    "    - educ_pad_cs : Secundaria completa\n",
    "    - educ_pad_cems : EMS incompleta o completa\n",
    "    - educ_pad_ces : Educación Superior incompleta o completa\n",
    "\n",
    "## Sociales\n",
    "- ingreso : Ingreso familia\n",
    "- falta_din ; Faltaba dinero en el hogar para útiles, pasajes o inscripción\n",
    "- tiempo_aesc : Tiempo a la escuela (más de 30 min)\n",
    "- trabajo_mas_imp : Consideraba trabajar más importante que estudiar \n",
    "- tiempo_trabajo : Trabajó> 20 hrs/semana\n",
    "- estudio_poca_uti: Consideraba que estudiar es de poca utilidad\n",
    "- drogas: Consumía drogas"
   ]
  },
  {
   "cell_type": "code",
   "execution_count": null,
   "metadata": {},
   "outputs": [],
   "source": [
    "df = pd.read_stata('Base_de_datos/ENDEMS_STATA.dta',convert_categoricals=False)\n",
    "df"
   ]
  },
  {
   "cell_type": "code",
   "execution_count": null,
   "metadata": {},
   "outputs": [],
   "source": [
    "def llenar_df( v_desertor, v_no_desertor  ):\n",
    "    res = []\n",
    "    for desertor, x, y in df[['f21',v_desertor, v_no_desertor]].values:\n",
    "        if desertor == 1 :\n",
    "            res.append(x)\n",
    "        else :\n",
    "            res.append(y)\n",
    "    return res"
   ]
  },
  {
   "cell_type": "code",
   "execution_count": null,
   "metadata": {},
   "outputs": [],
   "source": [
    "# Datos\n",
    "\n",
    "## Filtro de alumnos desertores y no desertores\n",
    "df = df[ (df['f21']== 1) | (df['f21']== 2)]\n",
    "\n",
    "## Variales\n",
    "columns = ['desercion','inst_pub','rezago','escuela_asig','turno_dif','prob_ent_m','acoso_esc', 'discriminacion', 'no_cambio', \n",
    "          'beca', 'confianza_maes' , 'expulcion', 'cambio', 'prom_sec' , 'prom_ems_a', 'prom_ems_nab' , 'prom_ems_b', 'prom_ems_mb',\n",
    "          'repr_n', 'repr_vm' , 'repr_mp', 'asis_s', 'asis_f', 'asis_fm', 'sexo', 'casado', 'embarazo', 'baja_autoestima',\n",
    "          'disguto_est', 'cambio_casa', 'confianza_fam' , 'problemas_padres', 'preferian_hermanos', 'vivia_padres', \n",
    "          'num_hnos', 'hnos_des' , 'educ_pad_sp' , 'educ_pad_ss' , 'educ_pad_cs' , 'educ_pad_cems' , 'educ_pad_ces', \n",
    "          'ingreso', 'falta_din', 'tiempo_aesc' , 'trabajo_mas_imp' , 'tiempo_trabajo', 'estudio_poca_uti', 'drogas'\n",
    "         ]\n",
    "\n",
    "ems = pd.DataFrame()\n",
    "#ems = pd.DataFrame(index=range(8235), columns=columns)\n",
    "\n",
    "\n",
    "df\n",
    "\n",
    "#ems['desercion'] = [0]*8236\n",
    "\n",
    "# desercion = 1 deserto\n",
    "\n",
    "ems['desercion'] = [1 if x == 1 else 0 for x in df['f21']  ]\n",
    "\n",
    "# institucion publica: desercion: p9_11 no desercion : p49_11  \n",
    "ems['inst_pub'] = llenar_df('p9_11','p49_11')\n",
    "# cast valor\n",
    "ems.loc[ems.inst_pub == 1, \"inst_pub\"] = 0\n",
    "ems.loc[ems.inst_pub == 2, \"inst_pub\"] = 1\n",
    "\n",
    "# turno_dif p24_2 p63_2 \n",
    "ems['turno_dif'] = llenar_df('p24_2','p63_2')\n",
    "ems.loc[ems.turno_dif == 2, \"turno_dif\"] = 0\n",
    "\n",
    "#prob_ent_m\n",
    "ems['prob_ent_m'] = llenar_df('p24_7','p63_7')\n",
    "ems.loc[ems.prob_ent_m == 2, \"turno_dif\"] = 0\n",
    "\n",
    "\n",
    "#acoso_esc\n",
    "ems['acoso_esc'] = llenar_df('p24_10','p63_10')\n",
    "ems.loc[ems.acoso_esc == 2, \"acoso_esc\"] = 0\n",
    "\n",
    "\n",
    "#discriminacion\n",
    "ems['discriminacion'] = llenar_df('p24_12','p63_12')\n",
    "ems.loc[ems.discriminacion == 2, \"discriminacion\"] = 0\n",
    "\n",
    "\n",
    "#no_cambio\n",
    "ems['no_cambio'] = llenar_df('p24_20','p63_20')\n",
    "ems.loc[ems.no_cambio == 2, \"no_cambio\"] = 0\n",
    "\n",
    "\n",
    "#beca\n",
    "ems['beca'] = llenar_df('p18','p60')\n",
    "ems.loc[ems.beca == 2, \"beca\"] = 0\n",
    "\n",
    "\n",
    "#expulcion\n",
    "ems['expulcion'] = llenar_df('p24_5','p63_5')\n",
    "ems.loc[ems.expulcion == 2, \"expulcion\"] = 0\n",
    "\n",
    "\n",
    "#cambio\n",
    "ems['cambio'] = llenar_df('p7','p47')\n",
    "ems.loc[ems.cambio == 2, \"cambio\"] = 0\n",
    "\n",
    "\n",
    "#prom_sec\n",
    "ems['prom_sec'] = llenar_df('p5','p45')\n",
    "ems.loc[ems.prom_sec == 2, \"prom_sec\"] = 0\n",
    "\n",
    "\n",
    "#sexo 1 Mujer \n",
    "ems['sexo'] = llenar_df('s1','s1')\n",
    "ems.loc[ems.sexo == 1, \"sexo\"] = 0\n",
    "ems.loc[ems.sexo == 2, \"sexo\"] = 1\n",
    "\n",
    "\n",
    "#casado\n",
    "ems['casado'] = llenar_df('p24_14','p63_14')\n",
    "ems.loc[ems.casado == 2, \"casado\"] = 0\n",
    "\n",
    "\n",
    "#embarazo\n",
    "ems['embarazo'] = llenar_df('p24_18','p63_18')\n",
    "ems.loc[ems.embarazo == 2, \"embarazo\"] = 0\n",
    "\n",
    "\n",
    "#baja_autoestima\n",
    "ems['baja_autoestima'] = llenar_df('p24_22','p63_22')\n",
    "ems.loc[ems.baja_autoestima == 2, \"baja_autoestima\"] = 0\n",
    "\n",
    "\n",
    "#disguto_est\n",
    "ems['disguto_est'] = llenar_df('p24_4','p63_4')\n",
    "ems.loc[ems.disguto_est == 2, \"disguto_est\"] = 0\n",
    "\n",
    "\n",
    "#cambio_casa\n",
    "ems['cambio_casa'] = llenar_df('p24_9','p63_9')\n",
    "ems.loc[ems.cambio_casa == 2, \"cambio_casa\"] = 0\n",
    "\n",
    "\n",
    "#problemas_padres\n",
    "ems['problemas_padres'] = llenar_df('p24_13','p63_13')\n",
    "ems.loc[ems.problemas_padres == 2, \"problemas_padres\"] = 0\n",
    "\n",
    "\n",
    "#preferian_hermanos\n",
    "ems['preferian_hermanos'] = llenar_df('p24_15','p63_15')\n",
    "ems.loc[ems.preferian_hermanos == 2, \"preferian_hermanos\"] = 0\n",
    "\n",
    "\n",
    "#num_hnos\n",
    "#ems['num_hnos'] = llenar_df('p12_5cts','p52_5cts')\n",
    "#ems.loc[ems.num_hnos == 2, \"num_hnos\"] = 0\n",
    "\n",
    "\n",
    "#hnos_des\n",
    "#ems['hnos_des'] = llenar_df('p23_2cts','p62_2cts')\n",
    "#ems.loc[ems.hnos_des == 2, \"hnos_des\"] = 0\n",
    "\n",
    "\n",
    "\n",
    "\n",
    "\n",
    "#ems.loc[df.f21 == 1,'desercion'] = 1\n",
    "\n",
    "#ems['ins_pub']"
   ]
  },
  {
   "cell_type": "code",
   "execution_count": null,
   "metadata": {},
   "outputs": [],
   "source": [
    "ems.info()\n",
    "ems"
   ]
  },
  {
   "cell_type": "markdown",
   "metadata": {},
   "source": [
    "# Estimacion"
   ]
  },
  {
   "cell_type": "code",
   "execution_count": null,
   "metadata": {},
   "outputs": [],
   "source": [
    "Y = ems['desercion']\n",
    "X = list(ems)\n",
    "X.remove('desercion')\n",
    "X = ems[X]\n",
    "X = sm.add_constant(X)\n"
   ]
  },
  {
   "cell_type": "code",
   "execution_count": null,
   "metadata": {},
   "outputs": [],
   "source": [
    "mdl = sm.Logit(Y, X)\n",
    " \n",
    "mdl_fit = mdl.fit()"
   ]
  },
  {
   "cell_type": "code",
   "execution_count": null,
   "metadata": {},
   "outputs": [],
   "source": [
    "# Imprimiendo Resultados:\n",
    "print(mdl_fit.summary())"
   ]
  },
  {
   "cell_type": "code",
   "execution_count": null,
   "metadata": {},
   "outputs": [],
   "source": [
    "\n",
    "# Efectos Marginnales:\n",
    "mdl_margeff = mdl_fit.get_margeff()\n",
    "print(mdl_margeff.summary())"
   ]
  },
  {
   "cell_type": "code",
   "execution_count": null,
   "metadata": {},
   "outputs": [],
   "source": [
    "list(ems)"
   ]
  },
  {
   "cell_type": "code",
   "execution_count": null,
   "metadata": {},
   "outputs": [],
   "source": [
    "df['prom_sec'].unique()"
   ]
  },
  {
   "cell_type": "code",
   "execution_count": null,
   "metadata": {},
   "outputs": [],
   "source": [
    "ems['prom_sec'].unique()"
   ]
  },
  {
   "cell_type": "code",
   "execution_count": null,
   "metadata": {},
   "outputs": [],
   "source": [
    "df['f21']"
   ]
  },
  {
   "cell_type": "code",
   "execution_count": null,
   "metadata": {},
   "outputs": [],
   "source": []
  }
 ],
 "metadata": {
  "kernelspec": {
   "display_name": "Python 3",
   "language": "python",
   "name": "python3"
  },
  "language_info": {
   "codemirror_mode": {
    "name": "ipython",
    "version": 3
   },
   "file_extension": ".py",
   "mimetype": "text/x-python",
   "name": "python",
   "nbconvert_exporter": "python",
   "pygments_lexer": "ipython3",
   "version": "3.7.7"
  }
 },
 "nbformat": 4,
 "nbformat_minor": 4
}
